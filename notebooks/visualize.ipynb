{
 "cells": [
  {
   "cell_type": "code",
   "execution_count": null,
   "metadata": {},
   "outputs": [],
   "source": [
    "import json\n",
    "with open('../results/result.json') as json_file:\n",
    "    results = json.load(json_file)"
   ]
  },
  {
   "cell_type": "code",
   "execution_count": null,
   "metadata": {},
   "outputs": [],
   "source": [
    "import plotly.express as px\n",
    "import plotly.graph_objects as go\n",
    "\n",
    "fig1 = px.scatter(x=range(0,24*365), y=results[\"elements\"][\"DEMAND_EL\"][\"variables\"][\"solar_used\"][\"values\"], color_discrete_sequence=['red'])\n",
    "fig2 = px.scatter(x=range(0,24*365), y=results[\"elements\"][\"DEMAND_EL\"][\"variables\"][\"consumption_el\"][\"values\"], labels={\"values\": \"consumption_el\"})\n",
    "fig = go.Figure(data = fig1.data + fig2.data)\n",
    "fig.update_layout(\n",
    "    title=\"Electricity consumption and used solar energy\",\n",
    "    xaxis_title=\"Hour\",\n",
    "    yaxis_title=\"kWh\",\n",
    "    legend_title=\"Legend\",\n",
    "    showlegend=True,\n",
    "    font=dict(\n",
    "        family=\"Computer Modern\",\n",
    "        size=18,\n",
    "    \n",
    "    ),\n",
    "    \n",
    ")\n",
    "fig.update_traces(showlegend=True)\n",
    "\n",
    "fig.show()"
   ]
  },
  {
   "cell_type": "code",
   "execution_count": null,
   "metadata": {},
   "outputs": [],
   "source": [
    "import plotly.express as px\n",
    "import plotly.graph_objects as go\n",
    "\n",
    "fig1 = px.scatter(x=range(0,24*365), y=results[\"elements\"][\"DISTRIBUTION_EL\"][\"variables\"][\"electricity_import\"][\"values\"], color_discrete_sequence=['magenta'])\n",
    "fig2 = px.scatter(x=range(0,24*365), y=results[\"elements\"][\"DEMAND_EL\"][\"variables\"][\"consumption_el\"][\"values\"], labels={\"values\": \"consumption_el\"})\n",
    "fig = go.Figure(data = fig1.data + fig2.data)\n",
    "fig.update_layout(\n",
    "    title=\"Electricity consumption and imported energy\",\n",
    "    xaxis_title=\"Hour\",\n",
    "    yaxis_title=\"kWh\",\n",
    "    legend_title=\"Legend\",\n",
    "    showlegend=True,\n",
    "    font=dict(\n",
    "        family=\"Computer Modern\",\n",
    "        size=18,\n",
    "    \n",
    "    ),\n",
    "    \n",
    ")\n",
    "fig.update_traces(showlegend=True)\n",
    "\n",
    "fig.show()"
   ]
  },
  {
   "cell_type": "code",
   "execution_count": null,
   "metadata": {},
   "outputs": [],
   "source": [
    "import plotly.graph_objects as go\n",
    "\n",
    "fig = go.Figure()\n",
    "fig.add_trace(go.Scatter(\n",
    "    x=list(range(1,24*365)), y=results[\"elements\"][\"DEMAND_EL\"][\"variables\"][\"solar_used\"][\"values\"],\n",
    "    name=\"Used solar energy\"       # this sets its legend entry\n",
    "\n",
    "),)\n",
    "\n",
    "\n",
    "fig.add_trace(go.Scatter(\n",
    "    x=list(range(1,24*365)), \n",
    "    y=results[\"elements\"][\"DEMAND_EL\"][\"variables\"][\"consumption_el\"][\"values\"], \n",
    "    name=\"Energy Consumption\"\n",
    "))\n",
    "\n",
    "fig.update_layout(\n",
    "    title=\"Electricity consumption and used solar energy\",\n",
    "    xaxis_title=\"Hour\",\n",
    "    yaxis_title=\"kWh\",\n",
    "    legend_title=\"Legend\",\n",
    "    font=dict(\n",
    "        family=\"Computer Modern\",\n",
    "        size=18,\n",
    "    )\n",
    ")\n",
    "fig.update_traces(showlegend=True)\n",
    "fig.show()"
   ]
  },
  {
   "cell_type": "code",
   "execution_count": null,
   "metadata": {},
   "outputs": [],
   "source": []
  }
 ],
 "metadata": {
  "kernelspec": {
   "display_name": "Python 3",
   "language": "python",
   "name": "python3"
  },
  "language_info": {
   "codemirror_mode": {
    "name": "ipython",
    "version": 3
   },
   "file_extension": ".py",
   "mimetype": "text/x-python",
   "name": "python",
   "nbconvert_exporter": "python",
   "pygments_lexer": "ipython3",
   "version": "3.10.9"
  }
 },
 "nbformat": 4,
 "nbformat_minor": 2
}
