{
 "cells": [
  {
   "cell_type": "code",
   "execution_count": 1,
   "metadata": {},
   "outputs": [],
   "source": [
    "#pip install pandas\n",
    "#pip install gurobipy\n",
    "#pip install gboml\n",
    "#pip install matplotlib"
   ]
  },
  {
   "cell_type": "code",
   "execution_count": 1,
   "metadata": {},
   "outputs": [],
   "source": [
    "import gurobipy\n",
    "from gboml import GbomlGraph\n",
    "import pandas as pd"
   ]
  },
  {
   "attachments": {},
   "cell_type": "markdown",
   "metadata": {},
   "source": [
    "# Lastkurve Gas (Daten von Jakob)\n",
    "\n",
    "- Zusammenschluss von Haushalten und Unternehmen\n",
    "- Lastkurve für ein Jahr (60 Minuten Zeitschritte)"
   ]
  },
  {
   "cell_type": "code",
   "execution_count": 3,
   "metadata": {},
   "outputs": [
    {
     "name": "stdout",
     "output_type": "stream",
     "text": [
      "Gesamtverbrauch 158440730.0\n"
     ]
    }
   ],
   "source": [
    "import pickle\n",
    "with open('../data/example_data/Gas_grid.pkl', 'rb') as f:\n",
    "    gas_load = pickle.load(f)\n",
    "\n",
    "gas_load = pd.DataFrame(gas_load)\n",
    "#gas_load['value'].plot()\n",
    "\n",
    "print('Gesamtverbrauch', gas_load['value'].sum())\n",
    "#Gesamtverbrauch besteht aus verschiedenen kleinen Unternehmen (z.B. Bäcker) und Haushalten \n",
    "#runterskalieren auf 1 Haushalt bzw. kleines Unternehmen (ca. 13.000 kwH pro Jahr)\n",
    "gesamtlast_gas = gas_load['value'].sum()\n",
    "gesamtlast_haushalt_gas = 13000 #13.000 kWh pro Jahr an Verbrauch\n",
    "gas_load['HaushaltLastGas'] = gas_load['value'] / gesamtlast_gas * gesamtlast_haushalt_gas\n",
    "#gas_load['HaushaltLastGas'].plot()\n",
    "\n",
    "#save data as csv\n",
    "gas_load['HaushaltLastGas'].to_csv(\"../data/LastprofilHaushaltGas.csv\",index=False, header=False)"
   ]
  },
  {
   "attachments": {},
   "cell_type": "markdown",
   "metadata": {},
   "source": [
    "# check data Jakob"
   ]
  },
  {
   "cell_type": "code",
   "execution_count": 4,
   "metadata": {},
   "outputs": [],
   "source": [
    "import pickle\n",
    "import pandas as pd\n",
    "\n",
    "with open('../data/example_data/Lastreihe.pkl', 'rb') as f: #Lastreihe für? \n",
    "    Lastreihe = pickle.load(f)\n",
    "Lastreihe = pd.DataFrame(Lastreihe)\n"
   ]
  },
  {
   "cell_type": "code",
   "execution_count": 5,
   "metadata": {},
   "outputs": [
    {
     "ename": "ImportError",
     "evalue": "matplotlib is required for plotting when the default backend \"matplotlib\" is selected.",
     "output_type": "error",
     "traceback": [
      "\u001b[1;31m---------------------------------------------------------------------------\u001b[0m",
      "\u001b[1;31mImportError\u001b[0m                               Traceback (most recent call last)",
      "Cell \u001b[1;32mIn[5], line 1\u001b[0m\n\u001b[1;32m----> 1\u001b[0m Lastreihe[\u001b[39m'\u001b[39;49m\u001b[39mLastreihe\u001b[39;49m\u001b[39m'\u001b[39;49m]\u001b[39m.\u001b[39;49mplot()\n",
      "File \u001b[1;32mc:\\Users\\domin\\anaconda3\\envs\\Microgrid_EnergyLab\\Lib\\site-packages\\pandas\\plotting\\_core.py:895\u001b[0m, in \u001b[0;36mPlotAccessor.__call__\u001b[1;34m(self, *args, **kwargs)\u001b[0m\n\u001b[0;32m    894\u001b[0m \u001b[39mdef\u001b[39;00m \u001b[39m__call__\u001b[39m(\u001b[39mself\u001b[39m, \u001b[39m*\u001b[39margs, \u001b[39m*\u001b[39m\u001b[39m*\u001b[39mkwargs):\n\u001b[1;32m--> 895\u001b[0m     plot_backend \u001b[39m=\u001b[39m _get_plot_backend(kwargs\u001b[39m.\u001b[39;49mpop(\u001b[39m\"\u001b[39;49m\u001b[39mbackend\u001b[39;49m\u001b[39m\"\u001b[39;49m, \u001b[39mNone\u001b[39;49;00m))\n\u001b[0;32m    897\u001b[0m     x, y, kind, kwargs \u001b[39m=\u001b[39m \u001b[39mself\u001b[39m\u001b[39m.\u001b[39m_get_call_args(\n\u001b[0;32m    898\u001b[0m         plot_backend\u001b[39m.\u001b[39m\u001b[39m__name__\u001b[39m, \u001b[39mself\u001b[39m\u001b[39m.\u001b[39m_parent, args, kwargs\n\u001b[0;32m    899\u001b[0m     )\n\u001b[0;32m    901\u001b[0m     kind \u001b[39m=\u001b[39m \u001b[39mself\u001b[39m\u001b[39m.\u001b[39m_kind_aliases\u001b[39m.\u001b[39mget(kind, kind)\n",
      "File \u001b[1;32mc:\\Users\\domin\\anaconda3\\envs\\Microgrid_EnergyLab\\Lib\\site-packages\\pandas\\plotting\\_core.py:1862\u001b[0m, in \u001b[0;36m_get_plot_backend\u001b[1;34m(backend)\u001b[0m\n\u001b[0;32m   1859\u001b[0m \u001b[39mif\u001b[39;00m backend_str \u001b[39min\u001b[39;00m _backends:\n\u001b[0;32m   1860\u001b[0m     \u001b[39mreturn\u001b[39;00m _backends[backend_str]\n\u001b[1;32m-> 1862\u001b[0m module \u001b[39m=\u001b[39m _load_backend(backend_str)\n\u001b[0;32m   1863\u001b[0m _backends[backend_str] \u001b[39m=\u001b[39m module\n\u001b[0;32m   1864\u001b[0m \u001b[39mreturn\u001b[39;00m module\n",
      "File \u001b[1;32mc:\\Users\\domin\\anaconda3\\envs\\Microgrid_EnergyLab\\Lib\\site-packages\\pandas\\plotting\\_core.py:1794\u001b[0m, in \u001b[0;36m_load_backend\u001b[1;34m(backend)\u001b[0m\n\u001b[0;32m   1792\u001b[0m         module \u001b[39m=\u001b[39m importlib\u001b[39m.\u001b[39mimport_module(\u001b[39m\"\u001b[39m\u001b[39mpandas.plotting._matplotlib\u001b[39m\u001b[39m\"\u001b[39m)\n\u001b[0;32m   1793\u001b[0m     \u001b[39mexcept\u001b[39;00m \u001b[39mImportError\u001b[39;00m:\n\u001b[1;32m-> 1794\u001b[0m         \u001b[39mraise\u001b[39;00m \u001b[39mImportError\u001b[39;00m(\n\u001b[0;32m   1795\u001b[0m             \u001b[39m\"\u001b[39m\u001b[39mmatplotlib is required for plotting when the \u001b[39m\u001b[39m\"\u001b[39m\n\u001b[0;32m   1796\u001b[0m             \u001b[39m'\u001b[39m\u001b[39mdefault backend \u001b[39m\u001b[39m\"\u001b[39m\u001b[39mmatplotlib\u001b[39m\u001b[39m\"\u001b[39m\u001b[39m is selected.\u001b[39m\u001b[39m'\u001b[39m\n\u001b[0;32m   1797\u001b[0m         ) \u001b[39mfrom\u001b[39;00m \u001b[39mNone\u001b[39;00m\n\u001b[0;32m   1798\u001b[0m     \u001b[39mreturn\u001b[39;00m module\n\u001b[0;32m   1800\u001b[0m found_backend \u001b[39m=\u001b[39m \u001b[39mFalse\u001b[39;00m\n",
      "\u001b[1;31mImportError\u001b[0m: matplotlib is required for plotting when the default backend \"matplotlib\" is selected."
     ]
    }
   ],
   "source": [
    "Lastreihe['Lastreihe'].plot()"
   ]
  },
  {
   "cell_type": "code",
   "execution_count": 6,
   "metadata": {},
   "outputs": [
    {
     "data": {
      "text/html": [
       "<div>\n",
       "<style scoped>\n",
       "    .dataframe tbody tr th:only-of-type {\n",
       "        vertical-align: middle;\n",
       "    }\n",
       "\n",
       "    .dataframe tbody tr th {\n",
       "        vertical-align: top;\n",
       "    }\n",
       "\n",
       "    .dataframe thead th {\n",
       "        text-align: right;\n",
       "    }\n",
       "</style>\n",
       "<table border=\"1\" class=\"dataframe\">\n",
       "  <thead>\n",
       "    <tr style=\"text-align: right;\">\n",
       "      <th></th>\n",
       "      <th>time</th>\n",
       "      <th>Lastreihe</th>\n",
       "    </tr>\n",
       "  </thead>\n",
       "  <tbody>\n",
       "    <tr>\n",
       "      <th>0</th>\n",
       "      <td>900</td>\n",
       "      <td>-573847.818451</td>\n",
       "    </tr>\n",
       "    <tr>\n",
       "      <th>1</th>\n",
       "      <td>1800</td>\n",
       "      <td>-573772.983373</td>\n",
       "    </tr>\n",
       "    <tr>\n",
       "      <th>2</th>\n",
       "      <td>2700</td>\n",
       "      <td>-576366.499789</td>\n",
       "    </tr>\n",
       "    <tr>\n",
       "      <th>3</th>\n",
       "      <td>3600</td>\n",
       "      <td>-591954.089661</td>\n",
       "    </tr>\n",
       "    <tr>\n",
       "      <th>4</th>\n",
       "      <td>4500</td>\n",
       "      <td>-575544.438819</td>\n",
       "    </tr>\n",
       "    <tr>\n",
       "      <th>...</th>\n",
       "      <td>...</td>\n",
       "      <td>...</td>\n",
       "    </tr>\n",
       "    <tr>\n",
       "      <th>33498</th>\n",
       "      <td>30149100</td>\n",
       "      <td>-544700.061007</td>\n",
       "    </tr>\n",
       "    <tr>\n",
       "      <th>33499</th>\n",
       "      <td>30150000</td>\n",
       "      <td>-561734.912946</td>\n",
       "    </tr>\n",
       "    <tr>\n",
       "      <th>33500</th>\n",
       "      <td>30150900</td>\n",
       "      <td>-554127.698305</td>\n",
       "    </tr>\n",
       "    <tr>\n",
       "      <th>33501</th>\n",
       "      <td>30151800</td>\n",
       "      <td>-563805.702558</td>\n",
       "    </tr>\n",
       "    <tr>\n",
       "      <th>33502</th>\n",
       "      <td>30152700</td>\n",
       "      <td>-545531.994179</td>\n",
       "    </tr>\n",
       "  </tbody>\n",
       "</table>\n",
       "<p>33503 rows × 2 columns</p>\n",
       "</div>"
      ],
      "text/plain": [
       "           time      Lastreihe\n",
       "0           900 -573847.818451\n",
       "1          1800 -573772.983373\n",
       "2          2700 -576366.499789\n",
       "3          3600 -591954.089661\n",
       "4          4500 -575544.438819\n",
       "...         ...            ...\n",
       "33498  30149100 -544700.061007\n",
       "33499  30150000 -561734.912946\n",
       "33500  30150900 -554127.698305\n",
       "33501  30151800 -563805.702558\n",
       "33502  30152700 -545531.994179\n",
       "\n",
       "[33503 rows x 2 columns]"
      ]
     },
     "execution_count": 6,
     "metadata": {},
     "output_type": "execute_result"
    }
   ],
   "source": [
    "pd.DataFrame(Lastreihe)"
   ]
  },
  {
   "attachments": {},
   "cell_type": "markdown",
   "metadata": {},
   "source": [
    "# Electricity Prices"
   ]
  },
  {
   "cell_type": "code",
   "execution_count": 9,
   "metadata": {},
   "outputs": [],
   "source": [
    "#pip install entsoe-py"
   ]
  },
  {
   "cell_type": "code",
   "execution_count": 10,
   "metadata": {},
   "outputs": [],
   "source": [
    "from entsoe import EntsoePandasClient\n",
    "from datetime import datetime\n",
    "import pandas as pd\n",
    "\n",
    "your_key = '0001b1f3-3601-42e9-b6a7-d359eee34c8d'\n",
    "country_code = 'DE_LU'  # Germany-Luxembourg\n",
    "client = EntsoePandasClient(api_key=your_key)\n",
    "\n",
    "def get_day_a_head_prices(start, end):\n",
    "    #Returns: Day-Ahead market price array for specified start and end date\n",
    "    df_prices= pd.DataFrame(client.query_day_ahead_prices(country_code, start=start,end=end))\n",
    "    df_prices.reset_index(inplace=True)\n",
    "    df_prices.rename(columns={'index':'DateTime', 0:'Price [EUR/MWh]'}, inplace=True)\n",
    "    return df_prices"
   ]
  },
  {
   "cell_type": "code",
   "execution_count": 11,
   "metadata": {},
   "outputs": [
    {
     "name": "stdout",
     "output_type": "stream",
     "text": [
      "                      DateTime  Price [EUR/MWh]  Price_multiply_5  \\\n",
      "0    2019-01-01 00:00:00+01:00            28.32            141.60   \n",
      "1    2019-01-01 01:00:00+01:00            10.07             50.35   \n",
      "2    2019-01-01 02:00:00+01:00            -4.08             -4.08   \n",
      "3    2019-01-01 03:00:00+01:00            -9.91             -9.91   \n",
      "4    2019-01-01 04:00:00+01:00            -7.41             -7.41   \n",
      "...                        ...              ...               ...   \n",
      "8755 2019-12-31 19:00:00+01:00            46.00            230.00   \n",
      "8756 2019-12-31 20:00:00+01:00            42.20            211.00   \n",
      "8757 2019-12-31 21:00:00+01:00            39.74            198.70   \n",
      "8758 2019-12-31 22:00:00+01:00            38.88            194.40   \n",
      "8759 2019-12-31 23:00:00+01:00            37.39            186.95   \n",
      "\n",
      "      Price [EUR/kWh]  export_price [EUR/kWh]  \n",
      "0             0.14160                 0.02832  \n",
      "1             0.05035                 0.01007  \n",
      "2            -0.00408                -0.00408  \n",
      "3            -0.00991                -0.00991  \n",
      "4            -0.00741                -0.00741  \n",
      "...               ...                     ...  \n",
      "8755          0.23000                 0.04600  \n",
      "8756          0.21100                 0.04220  \n",
      "8757          0.19870                 0.03974  \n",
      "8758          0.19440                 0.03888  \n",
      "8759          0.18695                 0.03739  \n",
      "\n",
      "[8760 rows x 5 columns]\n"
     ]
    }
   ],
   "source": [
    "#get electricity prices for 2019\n",
    "start = pd.Timestamp('20190101', tz='Europe/Brussels')\n",
    "end = pd.Timestamp('20200101', tz='Europe/Brussels')\n",
    "electricity_market_prices = get_day_a_head_prices(start, end)\n",
    "#delete last timestamp to get data from 01.01. 0:00 to 31.12. 23:00\n",
    "electricity_market_prices = electricity_market_prices[0:electricity_market_prices.shape[0]-1]\n",
    "#multiply electricity costs by 5 (because of taxes, konzessionsabgabe, netzentgelte, ...)\n",
    "#multiply only positive electricity prices by 5!\n",
    "electricity_market_prices['Price [EUR/MWh]'] = electricity_market_prices['Price [EUR/MWh]'] \n",
    "electricity_market_prices['Price_multiply_5'] = electricity_market_prices['Price [EUR/MWh]'].apply(lambda x: x * 5 if x > 0 else x)\n",
    "electricity_market_prices\n",
    "#calculate €/kWh (import prices)\n",
    "electricity_market_prices['Price [EUR/kWh]'] = electricity_market_prices['Price_multiply_5'] / 1000\n",
    "#calculate €/kWh (export prices)\n",
    "electricity_market_prices['export_price [EUR/kWh]'] = electricity_market_prices['Price [EUR/MWh]'] / 1000\n",
    "\n",
    "print(electricity_market_prices)\n"
   ]
  },
  {
   "cell_type": "code",
   "execution_count": 12,
   "metadata": {},
   "outputs": [],
   "source": [
    "#save data\n",
    "electricity_market_prices['Price [EUR/kWh]'].to_csv(\"../data/electricity_market_prices_2019.csv\",index=False, header=False)\n",
    "electricity_market_prices['export_price [EUR/kWh]'].to_csv(\"../data/electricity_market_prices_2019_export.csv\",index=False, header=False)"
   ]
  },
  {
   "attachments": {},
   "cell_type": "markdown",
   "metadata": {},
   "source": [
    "# Lastprofil Haushalt Jahresverbrauch: 3500kWh\n",
    "Vorgehensweise:\n",
    "- basierend auf dem Datensatz von den Stadtwerken Groß-Gerau wird ein stündliches Lastprofil mit einem Jahresverbrauch von 3500kWh erstellt\n",
    "- Datensatz: https://www.ggv-energie.de/cms/netz/allgemeine-daten/netzbilanzierung-download-aller-profile.php  \n",
    " [GGV_SLP_1000_MWh_2021_01.xlsx (Microsoft Excel)]\n",
    "- Datensatz enthält die viertelstündliche Last aller Haushalte des Stadtwerks Groß-Gerau\n",
    "- Berechnung eines einzelnen Haushalts mittels des Verhältnisses der Gesamtlast der Stadtwerke  "
   ]
  },
  {
   "cell_type": "code",
   "execution_count": 16,
   "metadata": {},
   "outputs": [
    {
     "data": {
      "text/plain": [
       "[<matplotlib.lines.Line2D at 0x208befd9850>]"
      ]
     },
     "execution_count": 16,
     "metadata": {},
     "output_type": "execute_result"
    },
    {
     "data": {
      "image/png": "[encoded data removed]",
      "text/plain": [
       "<Figure size 640x480 with 1 Axes>"
      ]
     },
     "metadata": {},
     "output_type": "display_data"
    }
   ],
   "source": [
    "import os\n",
    "import pandas as pd\n",
    "#data strom lastkurve\n",
    "\n",
    "data = pd.read_csv('../data/raw_data/LastprofilHaushalt_StadtwerkeGroßGerau.csv', sep=';')\n",
    "data = data.iloc[::4].copy() #get hourly data\n",
    "data = data.reset_index(drop=True)\n",
    "gesamtlast_StadtwerkeGroßGerau = (data['H00 [kWh]']).sum()#gesamtanzahl an kWh pro Jahr\n",
    "#ein haushalt hat einen Verbrauch von 3500kWh pro Jahr\n",
    "gesamtlast_haushalt = 3500\n",
    "data['LastprofilHauhalt 35000kWh/Jahr'] = data['H00 [kWh]'] / gesamtlast_StadtwerkeGroßGerau * gesamtlast_haushalt\n",
    "data = data.drop('H00 [kWh]', axis=1)\n",
    "\n",
    "import matplotlib.pyplot as plt\n",
    "plt.plot(data.index[1:24], data[\"LastprofilHauhalt 35000kWh/Jahr\"][1:24], color='r') #erster tag: also 01.01.2021\n"
   ]
  },
  {
   "cell_type": "code",
   "execution_count": 17,
   "metadata": {},
   "outputs": [
    {
     "data": {
      "text/plain": [
       "[<matplotlib.lines.Line2D at 0x208bf07ee10>]"
      ]
     },
     "execution_count": 17,
     "metadata": {},
     "output_type": "execute_result"
    },
    {
     "data": {
      "image/png": "[encoded data removed]",
      "text/plain": [
       "<Figure size 640x480 with 1 Axes>"
      ]
     },
     "metadata": {},
     "output_type": "display_data"
    }
   ],
   "source": [
    "plt.plot(data.index[4535:4558], data[\"LastprofilHauhalt 35000kWh/Jahr\"][4535:4558], color='r') #tag im sommer: 09.07.21"
   ]
  },
  {
   "cell_type": "code",
   "execution_count": 18,
   "metadata": {},
   "outputs": [],
   "source": [
    "#plt.plot(data.index, data[\"LastprofilHauhalt 3500kWh/Jahr\"], color='r') #3 tage im winter: 1.1. bis 3.1."
   ]
  },
  {
   "cell_type": "code",
   "execution_count": 19,
   "metadata": {},
   "outputs": [],
   "source": [
    "#plt.plot(data.index[1:72], data[\"LastprofilHauhalt 3500kWh/Jahr\"][1:72], color='r') #3 tage im winter: 1.1. bis 3.1."
   ]
  },
  {
   "cell_type": "code",
   "execution_count": 20,
   "metadata": {},
   "outputs": [],
   "source": [
    "#data = pd.DataFrame(data['LastprofilHauhalt 3500kWh/Jahr'].round(2))\n",
    "#data"
   ]
  },
  {
   "cell_type": "code",
   "execution_count": 21,
   "metadata": {},
   "outputs": [],
   "source": [
    "data['LastprofilHauhalt 35000kWh/Jahr'].to_csv(\"../data/LastprofilHaushalt.csv\",index=False, header=False)"
   ]
  },
  {
   "attachments": {},
   "cell_type": "markdown",
   "metadata": {},
   "source": [
    "# get Gas Market Prices\n",
    "Vorgehensweise:\n",
    "- basierend auf den monatlichen Gaspreisen soll ein Datensatz erstellt werden für stündliche Gaspreise\n",
    "- hierfür wird für jeden Tag bzw. jede Stunde der jeweilige Monatspreis angenommen\n"
   ]
  },
  {
   "cell_type": "code",
   "execution_count": 22,
   "metadata": {},
   "outputs": [
    {
     "data": {
      "text/html": [
       "<div>\n",
       "<style scoped>\n",
       "    .dataframe tbody tr th:only-of-type {\n",
       "        vertical-align: middle;\n",
       "    }\n",
       "\n",
       "    .dataframe tbody tr th {\n",
       "        vertical-align: top;\n",
       "    }\n",
       "\n",
       "    .dataframe thead th {\n",
       "        text-align: right;\n",
       "    }\n",
       "</style>\n",
       "<table border=\"1\" class=\"dataframe\">\n",
       "  <thead>\n",
       "    <tr style=\"text-align: right;\">\n",
       "      <th></th>\n",
       "      <th>Preise in euro/MWh</th>\n",
       "      <th>Preise in euro/kWh</th>\n",
       "    </tr>\n",
       "  </thead>\n",
       "  <tbody>\n",
       "    <tr>\n",
       "      <th>0</th>\n",
       "      <td>22.33</td>\n",
       "      <td>0.02233</td>\n",
       "    </tr>\n",
       "    <tr>\n",
       "      <th>1</th>\n",
       "      <td>18.81</td>\n",
       "      <td>0.01881</td>\n",
       "    </tr>\n",
       "    <tr>\n",
       "      <th>2</th>\n",
       "      <td>16.51</td>\n",
       "      <td>0.01651</td>\n",
       "    </tr>\n",
       "    <tr>\n",
       "      <th>3</th>\n",
       "      <td>15.83</td>\n",
       "      <td>0.01583</td>\n",
       "    </tr>\n",
       "    <tr>\n",
       "      <th>4</th>\n",
       "      <td>14.12</td>\n",
       "      <td>0.01412</td>\n",
       "    </tr>\n",
       "    <tr>\n",
       "      <th>5</th>\n",
       "      <td>10.65</td>\n",
       "      <td>0.01065</td>\n",
       "    </tr>\n",
       "    <tr>\n",
       "      <th>6</th>\n",
       "      <td>11.15</td>\n",
       "      <td>0.01115</td>\n",
       "    </tr>\n",
       "    <tr>\n",
       "      <th>7</th>\n",
       "      <td>10.32</td>\n",
       "      <td>0.01032</td>\n",
       "    </tr>\n",
       "    <tr>\n",
       "      <th>8</th>\n",
       "      <td>9.78</td>\n",
       "      <td>0.00978</td>\n",
       "    </tr>\n",
       "    <tr>\n",
       "      <th>9</th>\n",
       "      <td>10.46</td>\n",
       "      <td>0.01046</td>\n",
       "    </tr>\n",
       "    <tr>\n",
       "      <th>10</th>\n",
       "      <td>14.74</td>\n",
       "      <td>0.01474</td>\n",
       "    </tr>\n",
       "    <tr>\n",
       "      <th>11</th>\n",
       "      <td>13.63</td>\n",
       "      <td>0.01363</td>\n",
       "    </tr>\n",
       "  </tbody>\n",
       "</table>\n",
       "</div>"
      ],
      "text/plain": [
       "    Preise in euro/MWh  Preise in euro/kWh\n",
       "0                22.33             0.02233\n",
       "1                18.81             0.01881\n",
       "2                16.51             0.01651\n",
       "3                15.83             0.01583\n",
       "4                14.12             0.01412\n",
       "5                10.65             0.01065\n",
       "6                11.15             0.01115\n",
       "7                10.32             0.01032\n",
       "8                 9.78             0.00978\n",
       "9                10.46             0.01046\n",
       "10               14.74             0.01474\n",
       "11               13.63             0.01363"
      ]
     },
     "execution_count": 22,
     "metadata": {},
     "output_type": "execute_result"
    }
   ],
   "source": [
    "#get monthly prices of gas from 2019 (Source: Statista)\n",
    "import pandas as pd\n",
    "import numpy as np\n",
    "gas_prices = pd.read_csv('../data/raw_data/Ergaspreise_DE_Statista_Monatlich.csv', sep=';')\n",
    "gas_prices['Preise in euro/kWh'] = gas_prices / 1000 #get prices in kwH\n",
    "gas_prices"
   ]
  },
  {
   "attachments": {},
   "cell_type": "markdown",
   "metadata": {},
   "source": [
    "get dataframe with amount of days in the respective month"
   ]
  },
  {
   "cell_type": "code",
   "execution_count": 23,
   "metadata": {},
   "outputs": [
    {
     "name": "stdout",
     "output_type": "stream",
     "text": [
      "        Month  Days\n",
      "0     January    31\n",
      "1    February    28\n",
      "2       March    31\n",
      "3       April    30\n",
      "4         May    31\n",
      "5        June    30\n",
      "6        July    31\n",
      "7      August    31\n",
      "8   September    30\n",
      "9     October    31\n",
      "10   November    30\n",
      "11   December    31\n"
     ]
    }
   ],
   "source": [
    "\n",
    "import calendar\n",
    "\n",
    "# Erstelle eine Liste der Monate\n",
    "months = range(1, 13)\n",
    "\n",
    "# Erstelle eine leere Liste für die Anzahl der Tage pro Monat\n",
    "days_in_month = []\n",
    "\n",
    "# Iteriere über die Monate und erhalte die Anzahl der Tage\n",
    "for month in months:\n",
    "    days = calendar.monthrange(2019, month)[1]  # Jahr 2023 verwenden\n",
    "    days_in_month.append(days)\n",
    "\n",
    "# Erstelle den DataFrame\n",
    "df = pd.DataFrame({'Month': calendar.month_name[1:], 'Days': days_in_month})\n",
    "\n",
    "print(df)"
   ]
  },
  {
   "cell_type": "code",
   "execution_count": 24,
   "metadata": {},
   "outputs": [],
   "source": [
    "data = np.array([])  # Initialisiere leeres Array für die Daten\n",
    "\n",
    "for i in range(12):\n",
    "    amount_of_days = df.iloc[i]['Days']\n",
    "    gas_price = gas_prices.iloc[i][1]\n",
    "    data_month = np.full(amount_of_days*24, gas_price)  # Erhalte stündliche Daten für den Monat\n",
    "    \n",
    "    # Speichere das Array 'data_month' in 'data'\n",
    "    if data.size == 0:\n",
    "        data = data_month\n",
    "    else:\n",
    "        data = np.concatenate((data, data_month))\n"
   ]
  },
  {
   "cell_type": "code",
   "execution_count": 25,
   "metadata": {},
   "outputs": [
    {
     "data": {
      "text/plain": [
       "array([0.02233, 0.02233, 0.02233, ..., 0.01363, 0.01363, 0.01363])"
      ]
     },
     "execution_count": 25,
     "metadata": {},
     "output_type": "execute_result"
    }
   ],
   "source": [
    "data"
   ]
  },
  {
   "cell_type": "code",
   "execution_count": 26,
   "metadata": {},
   "outputs": [],
   "source": [
    "#save data as csv\n",
    "data = pd.DataFrame(data)\n",
    "data.to_csv(\"../data/gas_market_prices_2019.csv\",index=False, header=False)"
   ]
  },
  {
   "attachments": {
    "image.png": {
     "image/png": "[encoded data removed]"
    }
   },
   "cell_type": "markdown",
   "metadata": {},
   "source": [
    "# generieren eines Ladeprofils für eAuto\n",
    "\n",
    "\n",
    "- Annahme: jeder 10 Haushalt hat 1 Elektrofahrzeug\n",
    "- Erstellung des Ladeprofils in Anlehnung an Daniel Heinz, KIT (https://www.econstor.eu/bitstream/10419/185045/1/1034679422.pdf)\n",
    "- Ladeprofil für zu Hause laden: ab 9 Uhr morgens wird bisschen geladen, um 18 Uhr wird der Peak erreicht, von 2 Uhr bis 7 Uhr wird gar nicht geladen...\n",
    "![image.png](attachment:image.png)"
   ]
  },
  {
   "cell_type": "code",
   "execution_count": 31,
   "metadata": {},
   "outputs": [
    {
     "ename": "KeyError",
     "evalue": "'Charging Amount (relative)'",
     "output_type": "error",
     "traceback": [
      "\u001b[1;31m---------------------------------------------------------------------------\u001b[0m",
      "\u001b[1;31mKeyError\u001b[0m                                  Traceback (most recent call last)",
      "File \u001b[1;32mc:\\Users\\domin\\anaconda3\\envs\\Microgrid_EnergyLab\\Lib\\site-packages\\pandas\\core\\indexes\\base.py:3653\u001b[0m, in \u001b[0;36mIndex.get_loc\u001b[1;34m(self, key)\u001b[0m\n\u001b[0;32m   3652\u001b[0m \u001b[39mtry\u001b[39;00m:\n\u001b[1;32m-> 3653\u001b[0m     \u001b[39mreturn\u001b[39;00m \u001b[39mself\u001b[39;49m\u001b[39m.\u001b[39;49m_engine\u001b[39m.\u001b[39;49mget_loc(casted_key)\n\u001b[0;32m   3654\u001b[0m \u001b[39mexcept\u001b[39;00m \u001b[39mKeyError\u001b[39;00m \u001b[39mas\u001b[39;00m err:\n",
      "File \u001b[1;32mc:\\Users\\domin\\anaconda3\\envs\\Microgrid_EnergyLab\\Lib\\site-packages\\pandas\\_libs\\index.pyx:147\u001b[0m, in \u001b[0;36mpandas._libs.index.IndexEngine.get_loc\u001b[1;34m()\u001b[0m\n",
      "File \u001b[1;32mc:\\Users\\domin\\anaconda3\\envs\\Microgrid_EnergyLab\\Lib\\site-packages\\pandas\\_libs\\index.pyx:176\u001b[0m, in \u001b[0;36mpandas._libs.index.IndexEngine.get_loc\u001b[1;34m()\u001b[0m\n",
      "File \u001b[1;32mpandas\\_libs\\hashtable_class_helper.pxi:7080\u001b[0m, in \u001b[0;36mpandas._libs.hashtable.PyObjectHashTable.get_item\u001b[1;34m()\u001b[0m\n",
      "File \u001b[1;32mpandas\\_libs\\hashtable_class_helper.pxi:7088\u001b[0m, in \u001b[0;36mpandas._libs.hashtable.PyObjectHashTable.get_item\u001b[1;34m()\u001b[0m\n",
      "\u001b[1;31mKeyError\u001b[0m: 'Charging Amount (relative)'",
      "\nThe above exception was the direct cause of the following exception:\n",
      "\u001b[1;31mKeyError\u001b[0m                                  Traceback (most recent call last)",
      "Cell \u001b[1;32mIn[31], line 11\u001b[0m\n\u001b[0;32m      9\u001b[0m \u001b[39m# DataFrame erstellen\u001b[39;00m\n\u001b[0;32m     10\u001b[0m load_profile_eVehicle \u001b[39m=\u001b[39m pd\u001b[39m.\u001b[39mDataFrame({\u001b[39m'\u001b[39m\u001b[39mTime\u001b[39m\u001b[39m'\u001b[39m: time, \u001b[39m'\u001b[39m\u001b[39mCharging Amount (relative)\u001b[39m\u001b[39m'\u001b[39m: charging_amount_relative})\n\u001b[1;32m---> 11\u001b[0m load_profile_eVehicle[\u001b[39m'\u001b[39m\u001b[39mcharging_amount_absolute\u001b[39m\u001b[39m'\u001b[39m] \u001b[39m=\u001b[39m df[\u001b[39m'\u001b[39;49m\u001b[39mCharging Amount (relative)\u001b[39;49m\u001b[39m'\u001b[39;49m] \u001b[39m*\u001b[39m capacity_eVehicles \u001b[39m*\u001b[39m amount_eVehicles\n\u001b[0;32m     13\u001b[0m \u001b[39m#save loadprofile as csv\u001b[39;00m\n\u001b[0;32m     14\u001b[0m load_profile_eVehicle[\u001b[39m'\u001b[39m\u001b[39mCharging Amount (relative)\u001b[39m\u001b[39m'\u001b[39m]\u001b[39m.\u001b[39mto_csv(\u001b[39m\"\u001b[39m\u001b[39m../data/load_profile_eVehicle.csv\u001b[39m\u001b[39m\"\u001b[39m,index\u001b[39m=\u001b[39m\u001b[39mFalse\u001b[39;00m, header\u001b[39m=\u001b[39m\u001b[39mFalse\u001b[39;00m)\n",
      "File \u001b[1;32mc:\\Users\\domin\\anaconda3\\envs\\Microgrid_EnergyLab\\Lib\\site-packages\\pandas\\core\\frame.py:3761\u001b[0m, in \u001b[0;36mDataFrame.__getitem__\u001b[1;34m(self, key)\u001b[0m\n\u001b[0;32m   3759\u001b[0m \u001b[39mif\u001b[39;00m \u001b[39mself\u001b[39m\u001b[39m.\u001b[39mcolumns\u001b[39m.\u001b[39mnlevels \u001b[39m>\u001b[39m \u001b[39m1\u001b[39m:\n\u001b[0;32m   3760\u001b[0m     \u001b[39mreturn\u001b[39;00m \u001b[39mself\u001b[39m\u001b[39m.\u001b[39m_getitem_multilevel(key)\n\u001b[1;32m-> 3761\u001b[0m indexer \u001b[39m=\u001b[39m \u001b[39mself\u001b[39;49m\u001b[39m.\u001b[39;49mcolumns\u001b[39m.\u001b[39;49mget_loc(key)\n\u001b[0;32m   3762\u001b[0m \u001b[39mif\u001b[39;00m is_integer(indexer):\n\u001b[0;32m   3763\u001b[0m     indexer \u001b[39m=\u001b[39m [indexer]\n",
      "File \u001b[1;32mc:\\Users\\domin\\anaconda3\\envs\\Microgrid_EnergyLab\\Lib\\site-packages\\pandas\\core\\indexes\\base.py:3655\u001b[0m, in \u001b[0;36mIndex.get_loc\u001b[1;34m(self, key)\u001b[0m\n\u001b[0;32m   3653\u001b[0m     \u001b[39mreturn\u001b[39;00m \u001b[39mself\u001b[39m\u001b[39m.\u001b[39m_engine\u001b[39m.\u001b[39mget_loc(casted_key)\n\u001b[0;32m   3654\u001b[0m \u001b[39mexcept\u001b[39;00m \u001b[39mKeyError\u001b[39;00m \u001b[39mas\u001b[39;00m err:\n\u001b[1;32m-> 3655\u001b[0m     \u001b[39mraise\u001b[39;00m \u001b[39mKeyError\u001b[39;00m(key) \u001b[39mfrom\u001b[39;00m \u001b[39merr\u001b[39;00m\n\u001b[0;32m   3656\u001b[0m \u001b[39mexcept\u001b[39;00m \u001b[39mTypeError\u001b[39;00m:\n\u001b[0;32m   3657\u001b[0m     \u001b[39m# If we have a listlike key, _check_indexing_error will raise\u001b[39;00m\n\u001b[0;32m   3658\u001b[0m     \u001b[39m#  InvalidIndexError. Otherwise we fall through and re-raise\u001b[39;00m\n\u001b[0;32m   3659\u001b[0m     \u001b[39m#  the TypeError.\u001b[39;00m\n\u001b[0;32m   3660\u001b[0m     \u001b[39mself\u001b[39m\u001b[39m.\u001b[39m_check_indexing_error(key)\n",
      "\u001b[1;31mKeyError\u001b[0m: 'Charging Amount (relative)'"
     ]
    }
   ],
   "source": [
    "import pandas as pd\n",
    "amount_eVehicles = 1\n",
    "capacity_eVehicles = 40 #in kWh\n",
    "# Daten für das Ladeprofil\n",
    "time = pd.date_range(start='2023-06-06 00:00:00', end='2023-06-06 23:00:00', freq='1H')  # Zeitintervalle von 1 Stunde\n",
    "charging_amount_relative = [0.02, 0, 0, 0, 0, 0, 0, 0.01, 0.01, 0.02, 0.03, 0.03, 0.03, 0.04, 0.07, 0.10, 0.12, 0.14, 0.13, 0.10, 0.06, 0.04, 0.03, 0.02]  # relative Lademengen (in kWh)\n",
    "\n",
    "\n",
    "# DataFrame erstellen\n",
    "load_profile_eVehicle = pd.DataFrame({'Time': time, 'Charging Amount (relative)': charging_amount_relative})\n",
    "load_profile_eVehicle['charging_amount_absolute'] = df['Charging Amount (relative)'] * capacity_eVehicles * amount_eVehicles\n",
    "\n",
    "#save loadprofile as csv\n",
    "load_profile_eVehicle['Charging Amount (relative)'].to_csv(\"../data/load_profile_eVehicle.csv\",index=False, header=False)"
   ]
  },
  {
   "cell_type": "code",
   "execution_count": 29,
   "metadata": {},
   "outputs": [
    {
     "ename": "KeyError",
     "evalue": "'charging_amount_absolute'",
     "output_type": "error",
     "traceback": [
      "\u001b[1;31m---------------------------------------------------------------------------\u001b[0m",
      "\u001b[1;31mKeyError\u001b[0m                                  Traceback (most recent call last)",
      "File \u001b[1;32mc:\\Users\\domin\\anaconda3\\envs\\Microgrid_EnergyLab\\Lib\\site-packages\\pandas\\core\\indexes\\base.py:3653\u001b[0m, in \u001b[0;36mIndex.get_loc\u001b[1;34m(self, key)\u001b[0m\n\u001b[0;32m   3652\u001b[0m \u001b[39mtry\u001b[39;00m:\n\u001b[1;32m-> 3653\u001b[0m     \u001b[39mreturn\u001b[39;00m \u001b[39mself\u001b[39;49m\u001b[39m.\u001b[39;49m_engine\u001b[39m.\u001b[39;49mget_loc(casted_key)\n\u001b[0;32m   3654\u001b[0m \u001b[39mexcept\u001b[39;00m \u001b[39mKeyError\u001b[39;00m \u001b[39mas\u001b[39;00m err:\n",
      "File \u001b[1;32mc:\\Users\\domin\\anaconda3\\envs\\Microgrid_EnergyLab\\Lib\\site-packages\\pandas\\_libs\\index.pyx:147\u001b[0m, in \u001b[0;36mpandas._libs.index.IndexEngine.get_loc\u001b[1;34m()\u001b[0m\n",
      "File \u001b[1;32mc:\\Users\\domin\\anaconda3\\envs\\Microgrid_EnergyLab\\Lib\\site-packages\\pandas\\_libs\\index.pyx:176\u001b[0m, in \u001b[0;36mpandas._libs.index.IndexEngine.get_loc\u001b[1;34m()\u001b[0m\n",
      "File \u001b[1;32mpandas\\_libs\\hashtable_class_helper.pxi:7080\u001b[0m, in \u001b[0;36mpandas._libs.hashtable.PyObjectHashTable.get_item\u001b[1;34m()\u001b[0m\n",
      "File \u001b[1;32mpandas\\_libs\\hashtable_class_helper.pxi:7088\u001b[0m, in \u001b[0;36mpandas._libs.hashtable.PyObjectHashTable.get_item\u001b[1;34m()\u001b[0m\n",
      "\u001b[1;31mKeyError\u001b[0m: 'charging_amount_absolute'",
      "\nThe above exception was the direct cause of the following exception:\n",
      "\u001b[1;31mKeyError\u001b[0m                                  Traceback (most recent call last)",
      "Cell \u001b[1;32mIn[29], line 5\u001b[0m\n\u001b[0;32m      3\u001b[0m \u001b[39m# Plot erstellen\u001b[39;00m\n\u001b[0;32m      4\u001b[0m plt\u001b[39m.\u001b[39mfigure(figsize\u001b[39m=\u001b[39m(\u001b[39m12\u001b[39m, \u001b[39m6\u001b[39m))\n\u001b[1;32m----> 5\u001b[0m plt\u001b[39m.\u001b[39mplot(load_profile_eVehicle[\u001b[39m'\u001b[39m\u001b[39mTime\u001b[39m\u001b[39m'\u001b[39m], load_profile_eVehicle[\u001b[39m'\u001b[39;49m\u001b[39mcharging_amount_absolute\u001b[39;49m\u001b[39m'\u001b[39;49m])\n\u001b[0;32m      7\u001b[0m \u001b[39m# Achsenbeschriftungen und Titel hinzufügen\u001b[39;00m\n\u001b[0;32m      8\u001b[0m plt\u001b[39m.\u001b[39mxlabel(\u001b[39m'\u001b[39m\u001b[39mZeit\u001b[39m\u001b[39m'\u001b[39m)\n",
      "File \u001b[1;32mc:\\Users\\domin\\anaconda3\\envs\\Microgrid_EnergyLab\\Lib\\site-packages\\pandas\\core\\frame.py:3761\u001b[0m, in \u001b[0;36mDataFrame.__getitem__\u001b[1;34m(self, key)\u001b[0m\n\u001b[0;32m   3759\u001b[0m \u001b[39mif\u001b[39;00m \u001b[39mself\u001b[39m\u001b[39m.\u001b[39mcolumns\u001b[39m.\u001b[39mnlevels \u001b[39m>\u001b[39m \u001b[39m1\u001b[39m:\n\u001b[0;32m   3760\u001b[0m     \u001b[39mreturn\u001b[39;00m \u001b[39mself\u001b[39m\u001b[39m.\u001b[39m_getitem_multilevel(key)\n\u001b[1;32m-> 3761\u001b[0m indexer \u001b[39m=\u001b[39m \u001b[39mself\u001b[39;49m\u001b[39m.\u001b[39;49mcolumns\u001b[39m.\u001b[39;49mget_loc(key)\n\u001b[0;32m   3762\u001b[0m \u001b[39mif\u001b[39;00m is_integer(indexer):\n\u001b[0;32m   3763\u001b[0m     indexer \u001b[39m=\u001b[39m [indexer]\n",
      "File \u001b[1;32mc:\\Users\\domin\\anaconda3\\envs\\Microgrid_EnergyLab\\Lib\\site-packages\\pandas\\core\\indexes\\base.py:3655\u001b[0m, in \u001b[0;36mIndex.get_loc\u001b[1;34m(self, key)\u001b[0m\n\u001b[0;32m   3653\u001b[0m     \u001b[39mreturn\u001b[39;00m \u001b[39mself\u001b[39m\u001b[39m.\u001b[39m_engine\u001b[39m.\u001b[39mget_loc(casted_key)\n\u001b[0;32m   3654\u001b[0m \u001b[39mexcept\u001b[39;00m \u001b[39mKeyError\u001b[39;00m \u001b[39mas\u001b[39;00m err:\n\u001b[1;32m-> 3655\u001b[0m     \u001b[39mraise\u001b[39;00m \u001b[39mKeyError\u001b[39;00m(key) \u001b[39mfrom\u001b[39;00m \u001b[39merr\u001b[39;00m\n\u001b[0;32m   3656\u001b[0m \u001b[39mexcept\u001b[39;00m \u001b[39mTypeError\u001b[39;00m:\n\u001b[0;32m   3657\u001b[0m     \u001b[39m# If we have a listlike key, _check_indexing_error will raise\u001b[39;00m\n\u001b[0;32m   3658\u001b[0m     \u001b[39m#  InvalidIndexError. Otherwise we fall through and re-raise\u001b[39;00m\n\u001b[0;32m   3659\u001b[0m     \u001b[39m#  the TypeError.\u001b[39;00m\n\u001b[0;32m   3660\u001b[0m     \u001b[39mself\u001b[39m\u001b[39m.\u001b[39m_check_indexing_error(key)\n",
      "\u001b[1;31mKeyError\u001b[0m: 'charging_amount_absolute'"
     ]
    },
    {
     "data": {
      "text/plain": [
       "<Figure size 1200x600 with 0 Axes>"
      ]
     },
     "metadata": {},
     "output_type": "display_data"
    }
   ],
   "source": [
    "import matplotlib.pyplot as plt\n",
    "\n",
    "# Plot erstellen\n",
    "plt.figure(figsize=(12, 6))\n",
    "plt.plot(load_profile_eVehicle['Time'], load_profile_eVehicle['charging_amount_absolute'])\n",
    "\n",
    "# Achsenbeschriftungen und Titel hinzufügen\n",
    "plt.xlabel('Zeit')\n",
    "plt.ylabel('Lademenge relativ')\n",
    "plt.title('Lastprofil für Elektroauto')\n",
    "\n",
    "# X-Achsenformatierung für Zeitstempel\n",
    "plt.xticks(rotation=45)\n",
    "\n",
    "# Diagramm anzeigen\n",
    "plt.show()"
   ]
  },
  {
   "cell_type": "code",
   "execution_count": null,
   "metadata": {},
   "outputs": [],
   "source": []
  }
 ],
 "metadata": {
  "kernelspec": {
   "display_name": "Python 3",
   "language": "python",
   "name": "python3"
  },
  "language_info": {
   "codemirror_mode": {
    "name": "ipython",
    "version": 3
   },
   "file_extension": ".py",
   "mimetype": "text/x-python",
   "name": "python",
   "nbconvert_exporter": "python",
   "pygments_lexer": "ipython3",
   "version": "3.11.5"
  },
  "orig_nbformat": 4
 },
 "nbformat": 4,
 "nbformat_minor": 2
}
