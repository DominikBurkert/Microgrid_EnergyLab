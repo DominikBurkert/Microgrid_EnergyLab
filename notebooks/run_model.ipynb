{
 "cells": [
  {
   "cell_type": "code",
   "execution_count": null,
   "metadata": {},
   "outputs": [],
   "source": [
    "from gboml import GbomlGraph\n",
    "\n",
    "gboml_model = GbomlGraph(1*24*365)\n",
    "nodes, edges, _ = gboml_model.import_all_nodes_and_edges(\"../models/benchmark_v2.txt\")\n",
    "gboml_model.add_nodes_in_model(*nodes)\n",
    "gboml_model.add_hyperedges_in_model(*edges)\n",
    "gboml_model.build_model()\n",
    "solution = gboml_model.solve_gurobi(details=True)\n",
    "(solution_flat, objective, status, solver_info, constr_info, var_info) = solution\n",
    "solution_dict = gboml_model.turn_solution_to_dictionary(solution=solution_flat, solver_data=solver_info, status=status, objective=objective, constraint_info=constr_info, variables_info=var_info)\n",
    "print(solution)"
   ]
  },
  {
   "cell_type": "code",
   "execution_count": null,
   "metadata": {},
   "outputs": [],
   "source": [
    "import json\n",
    "with open('../results/result.json', 'w') as res:\n",
    "    json.dump(solution_dict[\"solution\"], res)"
   ]
  },
  {
   "cell_type": "code",
   "execution_count": null,
   "metadata": {},
   "outputs": [],
   "source": [
    "solution_dict[\"solution\"][\"elements\"].keys()"
   ]
  },
  {
   "cell_type": "code",
   "execution_count": null,
   "metadata": {},
   "outputs": [],
   "source": [
    "solution_dict[\"solution\"][\"elements\"][\"DEMAND_EL\"][\"variables\"][\"solar_used\"]"
   ]
  },
  {
   "cell_type": "code",
   "execution_count": null,
   "metadata": {},
   "outputs": [],
   "source": []
  }
 ],
 "metadata": {
  "kernelspec": {
   "display_name": "Python 3",
   "language": "python",
   "name": "python3"
  },
  "language_info": {
   "codemirror_mode": {
    "name": "ipython",
    "version": 3
   },
   "file_extension": ".py",
   "mimetype": "text/x-python",
   "name": "python",
   "nbconvert_exporter": "python",
   "pygments_lexer": "ipython3",
   "version": "3.10.9"
  }
 },
 "nbformat": 4,
 "nbformat_minor": 2
}
