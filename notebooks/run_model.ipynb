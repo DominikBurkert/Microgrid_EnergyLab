{
 "cells": [
  {
   "cell_type": "code",
   "execution_count": null,
   "metadata": {},
   "outputs": [],
   "source": [
    "from gboml import GbomlGraph\n",
    "\n",
    "gboml_model = GbomlGraph(1*24*365)\n",
    "nodes, edges, _ = gboml_model.import_all_nodes_and_edges(\"../models/merge_components.txt\")\n",
    "gboml_model.add_nodes_in_model(*nodes)\n",
    "gboml_model.add_hyperedges_in_model(*edges)\n",
    "gboml_model.build_model()\n",
    "solution = gboml_model.solve_gurobi(details=True)\n",
    "(solution_flat, objective, status, solver_info, constr_info, var_info) = solution\n",
    "solution_dict = gboml_model.turn_solution_to_dictionary(solution=solution_flat, solver_data=solver_info, status=status, objective=objective, constraint_info=constr_info, variables_info=var_info)\n",
    "print(solution)"
   ]
  },
  {
   "cell_type": "code",
   "execution_count": null,
   "metadata": {},
   "outputs": [],
   "source": [
    "import sys\n",
    "sys.path.append(\"../src/\")"
   ]
  },
  {
   "cell_type": "code",
   "execution_count": null,
   "metadata": {},
   "outputs": [],
   "source": [
    "import analysis\n",
    "analysis.show_results(solution_dict)"
   ]
  },
  {
   "cell_type": "code",
   "execution_count": null,
   "metadata": {},
   "outputs": [],
   "source": [
    "import pandas as pd\n",
    "results_week = pd.DataFrame()\n",
    "elements = solution_dict[\"solution\"][\"elements\"]\n",
    "for element in elements.keys():\n",
    "    if element in [\"WIND_PLANT\", \"SOLAR_PV\", \"DEMAND_EL\", \"DISTRIBUTION_EL\", \"BATTERY\"]:\n",
    "        for variable in elements[element][\"variables\"].keys():\n",
    "            var_values = elements[element][\"variables\"][variable][\"values\"]\n",
    "            if len(var_values) == 1:\n",
    "                result = f\"Node {element}: {variable}: {var_values[0]}\"\n",
    "                print(result)\n",
    "            else:\n",
    "                col = variable\n",
    "                results_week[col] = var_values[: 24*7]\n",
    "                print(f\"Node {element}: {variable}: (first week)\")\n",
    "                #plt.plot(var_values[: 24 * 7])\n",
    "                #plt.show()"
   ]
  },
  {
   "cell_type": "code",
   "execution_count": null,
   "metadata": {},
   "outputs": [],
   "source": [
    "results_week.head()"
   ]
  },
  {
   "cell_type": "code",
   "execution_count": null,
   "metadata": {},
   "outputs": [],
   "source": [
    "results = results_week[96:120].reset_index(drop=True)\n",
    "results.head()"
   ]
  },
  {
   "cell_type": "code",
   "execution_count": null,
   "metadata": {},
   "outputs": [],
   "source": [
    "import matplotlib.pyplot as plt\n",
    "import numpy as np\n",
    "\n",
    "x = np.arange(24)\n",
    "plt.rcParams[\"figure.figsize\"] = 9, 6\n",
    "\n",
    "plt.plot(x, results.consumption_el)\n",
    "plt.plot(x, results.electricity_import)\n",
    "plt.plot(x, results.wind_generated)\n",
    "plt.plot(x, results.solar_generated)\n",
    "plt.xlabel(\"Hour\")\n",
    "plt.ylabel(\"kW\")\n",
    "plt.legend(['demand', 'electricity_import', 'wind_generated', 'solar_generated'], loc='upper left')\n",
    "plt.show()\n"
   ]
  },
  {
   "cell_type": "code",
   "execution_count": null,
   "metadata": {},
   "outputs": [],
   "source": [
    "plt.rcParams[\"figure.figsize\"] = 9, 6\n",
    "\n",
    "plt.plot(x, results.consumption_el)\n",
    "plt.plot(x, results.electricity_import)\n",
    "plt.plot(x, results.solar_generated+results.wind_generated)\n",
    "plt.xlabel(\"Hour\")\n",
    "plt.ylabel(\"kW\")\n",
    "plt.legend(['demand', 'electricity_import', 'solar + wind'], loc='upper left')\n",
    "plt.show()\n"
   ]
  },
  {
   "cell_type": "code",
   "execution_count": null,
   "metadata": {},
   "outputs": [],
   "source": [
    "results[\"operating_cost_electricity\"]"
   ]
  },
  {
   "cell_type": "code",
   "execution_count": null,
   "metadata": {},
   "outputs": [],
   "source": [
    "ax = results[[ 'wind_generated', 'solar_generated', 'electricity_import']].plot(kind='bar', stacked=True, figsize=(9, 6), rot=0, xlabel='Hour', ylabel='kW')\n",
    "ax2 = results.operating_cost_electricity.plot(secondary_y=True,color=\"grey\", ax=ax, label=\"operating cost electricity\")\n",
    "_ = ax.plot(results[\"consumption_el\"],  color='black',  label='Demand')\n",
    "_ = ax.legend()\n",
    "_ = ax2.legend(loc=\"upper right\")"
   ]
  },
  {
   "cell_type": "code",
   "execution_count": null,
   "metadata": {},
   "outputs": [],
   "source": [
    "fig, axes = plt.subplots(nrows=1, ncols=2, figsize=(13, 6))\n",
    "_ = axes[0].plot(x, results[\"soc\"], label=\"soc\")\n",
    "_ = axes[1].plot(x, results[\"discharge\"], color=\"grey\", label=\"discharge\")\n",
    "_ = fig.legend()"
   ]
  },
  {
   "cell_type": "code",
   "execution_count": null,
   "metadata": {},
   "outputs": [],
   "source": []
  }
 ],
 "metadata": {
  "kernelspec": {
   "display_name": "Python 3",
   "language": "python",
   "name": "python3"
  },
  "language_info": {
   "codemirror_mode": {
    "name": "ipython",
    "version": 3
   },
   "file_extension": ".py",
   "mimetype": "text/x-python",
   "name": "python",
   "nbconvert_exporter": "python",
   "pygments_lexer": "ipython3",
   "version": "3.10.9"
  }
 },
 "nbformat": 4,
 "nbformat_minor": 2
}
