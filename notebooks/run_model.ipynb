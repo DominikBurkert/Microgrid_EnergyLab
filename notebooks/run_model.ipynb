{
    "cells": [
        {
            "cell_type": "code",
            "execution_count": 12,
            "metadata": {},
            "outputs": [],
            "source": [
                "import sys\n",
                "sys.path.append(\"../src/\")\n",
                "#import analysis"
            ]
        },
        {
            "cell_type": "code",
            "execution_count": 18,
            "metadata": {},
            "outputs": [
                {
                    "name": "stdout",
                    "output_type": "stream",
                    "text": [
                        "Der aktuelle Pfad ist: C:\\Users\\domin\\Desktop\\Master\\Praktikum_EI2\\Microgrid_EnergyLab\n",
                        "Der aktuelle Pfad ist: C:\\Users\\domin\\Desktop\\Master\\Praktikum_EI2\\Microgrid_EnergyLab\\Microgrid_EnergyLab\n"
                    ]
                }
            ],
            "source": [
                "import os\n",
                "\n",
                "# Den aktuellen Arbeitsverzeichnispfad erhalten\n",
                "current_directory = os.getcwd()\n",
                "\n",
                "print(\"Der aktuelle Pfad ist:\", current_directory)\n",
                "\n",
                "# Aktuellen Arbeitsverzeichnispfad ändern\n",
                "neuer_pfad = 'C:/Users/domin/Desktop/Master/Praktikum_EI2/Microgrid_EnergyLab/Microgrid_EnergyLab'\n",
                "\n",
                "os.chdir(neuer_pfad)\n",
                "\n",
                "current_directory = os.getcwd()\n",
                "print(\"Der aktuelle Pfad ist:\", current_directory)"
            ]
        },
        {
            "cell_type": "code",
            "execution_count": 20,
            "metadata": {},
            "outputs": [
                {
                    "name": "stdout",
                    "output_type": "stream",
                    "text": [
                        "No such file as ../models/scenarios/benchmark.txt\n"
                    ]
                },
                {
                    "ename": "NameError",
                    "evalue": "name 'exit' is not defined",
                    "output_type": "error",
                    "traceback": [
                        "\u001b[1;31m---------------------------------------------------------------------------\u001b[0m",
                        "\u001b[1;31mNameError\u001b[0m                                 Traceback (most recent call last)",
                        "\u001b[1;32mc:\\Users\\domin\\Desktop\\Master\\Praktikum_EI2\\Microgrid_EnergyLab\\Microgrid_EnergyLab\\notebooks\\run_model.ipynb Cell 3\u001b[0m line \u001b[0;36m5\n\u001b[0;32m      <a href='vscode-notebook-cell:/c%3A/Users/domin/Desktop/Master/Praktikum_EI2/Microgrid_EnergyLab/Microgrid_EnergyLab/notebooks/run_model.ipynb#W1sZmlsZQ%3D%3D?line=2'>3</a>\u001b[0m model_txt \u001b[39m=\u001b[39m \u001b[39m\"\u001b[39m\u001b[39mbenchmark.txt\u001b[39m\u001b[39m\"\u001b[39m\n\u001b[0;32m      <a href='vscode-notebook-cell:/c%3A/Users/domin/Desktop/Master/Praktikum_EI2/Microgrid_EnergyLab/Microgrid_EnergyLab/notebooks/run_model.ipynb#W1sZmlsZQ%3D%3D?line=3'>4</a>\u001b[0m gboml_model \u001b[39m=\u001b[39m GbomlGraph(\u001b[39m8760\u001b[39m)\n\u001b[1;32m----> <a href='vscode-notebook-cell:/c%3A/Users/domin/Desktop/Master/Praktikum_EI2/Microgrid_EnergyLab/Microgrid_EnergyLab/notebooks/run_model.ipynb#W1sZmlsZQ%3D%3D?line=4'>5</a>\u001b[0m nodes, edges, _ \u001b[39m=\u001b[39m gboml_model\u001b[39m.\u001b[39;49mimport_all_nodes_and_edges(\u001b[39m\"\u001b[39;49m\u001b[39m../models/scenarios/benchmark.txt\u001b[39;49m\u001b[39m\"\u001b[39;49m)\n\u001b[0;32m      <a href='vscode-notebook-cell:/c%3A/Users/domin/Desktop/Master/Praktikum_EI2/Microgrid_EnergyLab/Microgrid_EnergyLab/notebooks/run_model.ipynb#W1sZmlsZQ%3D%3D?line=5'>6</a>\u001b[0m gboml_model\u001b[39m.\u001b[39madd_nodes_in_model(\u001b[39m*\u001b[39mnodes)\n\u001b[0;32m      <a href='vscode-notebook-cell:/c%3A/Users/domin/Desktop/Master/Praktikum_EI2/Microgrid_EnergyLab/Microgrid_EnergyLab/notebooks/run_model.ipynb#W1sZmlsZQ%3D%3D?line=6'>7</a>\u001b[0m gboml_model\u001b[39m.\u001b[39madd_hyperedges_in_model(\u001b[39m*\u001b[39medges)\n",
                        "File \u001b[1;32mc:\\Users\\domin\\anaconda3\\envs\\Microgrid_EnergyLab\\Lib\\site-packages\\gboml\\gboml_graph.py:560\u001b[0m, in \u001b[0;36mGbomlGraph.import_all_nodes_and_edges\u001b[1;34m(filename, cache)\u001b[0m\n\u001b[0;32m    545\u001b[0m \u001b[39m@staticmethod\u001b[39m\n\u001b[0;32m    546\u001b[0m \u001b[39mdef\u001b[39;00m \u001b[39mimport_all_nodes_and_edges\u001b[39m(filename, cache\u001b[39m=\u001b[39m\u001b[39mTrue\u001b[39;00m):\n\u001b[0;32m    547\u001b[0m \u001b[39m    \u001b[39m\u001b[39m\"\"\"\u001b[39;00m\n\u001b[0;32m    548\u001b[0m \u001b[39m    static method importing all nodes and hyperedges contained in a file\u001b[39;00m\n\u001b[0;32m    549\u001b[0m \n\u001b[1;32m   (...)\u001b[0m\n\u001b[0;32m    558\u001b[0m \n\u001b[0;32m    559\u001b[0m \u001b[39m    \"\"\"\u001b[39;00m\n\u001b[1;32m--> 560\u001b[0m     old_dir, cut_filename \u001b[39m=\u001b[39m move_to_directory(filename)\n\u001b[0;32m    561\u001b[0m     filename_graph \u001b[39m=\u001b[39m parse_file(cut_filename, cache)\n\u001b[0;32m    562\u001b[0m     all_nodes \u001b[39m=\u001b[39m filename_graph\u001b[39m.\u001b[39mget_nodes()\n",
                        "File \u001b[1;32mc:\\Users\\domin\\anaconda3\\envs\\Microgrid_EnergyLab\\Lib\\site-packages\\gboml\\compiler\\utils.py:45\u001b[0m, in \u001b[0;36mmove_to_directory\u001b[1;34m(input_file)\u001b[0m\n\u001b[0;32m     30\u001b[0m \u001b[39mdef\u001b[39;00m \u001b[39mmove_to_directory\u001b[39m(input_file: \u001b[39mstr\u001b[39m):\n\u001b[0;32m     31\u001b[0m \u001b[39m    \u001b[39m\u001b[39m\"\"\"move_to_directory\u001b[39;00m\n\u001b[0;32m     32\u001b[0m \n\u001b[0;32m     33\u001b[0m \u001b[39m        takes as input a path to a certain file and moves\u001b[39;00m\n\u001b[1;32m   (...)\u001b[0m\n\u001b[0;32m     42\u001b[0m \n\u001b[0;32m     43\u001b[0m \u001b[39m    \"\"\"\u001b[39;00m\n\u001b[1;32m---> 45\u001b[0m     check_file_exists(input_file)\n\u001b[0;32m     46\u001b[0m     old_directory \u001b[39m=\u001b[39m os\u001b[39m.\u001b[39mgetcwd()\n\u001b[0;32m     47\u001b[0m     directory_path \u001b[39m=\u001b[39m os\u001b[39m.\u001b[39mpath\u001b[39m.\u001b[39mdirname(input_file)\n",
                        "File \u001b[1;32mc:\\Users\\domin\\anaconda3\\envs\\Microgrid_EnergyLab\\Lib\\site-packages\\gboml\\compiler\\utils.py:27\u001b[0m, in \u001b[0;36mcheck_file_exists\u001b[1;34m(input_file)\u001b[0m\n\u001b[0;32m     25\u001b[0m \u001b[39mif\u001b[39;00m os\u001b[39m.\u001b[39mpath\u001b[39m.\u001b[39misfile(input_file) \u001b[39mis\u001b[39;00m \u001b[39mFalse\u001b[39;00m:\n\u001b[0;32m     26\u001b[0m     \u001b[39mprint\u001b[39m(\u001b[39m\"\u001b[39m\u001b[39mNo such file as \u001b[39m\u001b[39m\"\u001b[39m\u001b[39m+\u001b[39m\u001b[39mstr\u001b[39m(input_file))\n\u001b[1;32m---> 27\u001b[0m     exit(\u001b[39m-\u001b[39m\u001b[39m1\u001b[39m)\n",
                        "\u001b[1;31mNameError\u001b[0m: name 'exit' is not defined"
                    ]
                }
            ],
            "source": [
                "from gboml import GbomlGraph\n",
                "\n",
                "model_txt = \"benchmark.txt\"\n",
                "gboml_model = GbomlGraph(8760)\n",
                "nodes, edges, _ = gboml_model.import_all_nodes_and_edges(\"../models/scenarios/benchmark.txt\")\n",
                "gboml_model.add_nodes_in_model(*nodes)\n",
                "gboml_model.add_hyperedges_in_model(*edges)\n",
                "gboml_model.build_model()\n",
                "solution = gboml_model.solve_gurobi(details=True)\n",
                "#solution, solution_dict  = analysis.run_model(model_txt)\n",
                "print(solution)"
            ]
        },
        {
            "cell_type": "code",
            "execution_count": null,
            "metadata": {},
            "outputs": [],
            "source": [
                "solution_dict[\"solution\"][\"elements\"][\"TEST_NODE\"]"
            ]
        },
        {
            "cell_type": "code",
            "execution_count": null,
            "metadata": {},
            "outputs": [],
            "source": [
                "#analysis.show_results(solution_dict)"
            ]
        },
        {
            "cell_type": "code",
            "execution_count": null,
            "metadata": {},
            "outputs": [],
            "source": [
                "import pandas as pd\n",
                "results_week = pd.DataFrame()\n",
                "elements = solution_dict[\"solution\"][\"elements\"]\n",
                "for element in elements.keys():\n",
                "    if element in [\"WIND_PLANT\", \"SOLAR_PV\", \"DEMAND_EL\", \"DISTRIBUTION_EL\", \"BATTERY\", \"CHP_PLANT\"]:\n",
                "        for variable in elements[element][\"variables\"].keys():\n",
                "            var_values = elements[element][\"variables\"][variable][\"values\"]\n",
                "            if len(var_values) == 1:\n",
                "                result = f\"Node {element}: {variable}: {var_values[0]}\"\n",
                "                print(result)\n",
                "            else:\n",
                "                col = variable\n",
                "                results_week[col] = var_values[: 24*7]\n",
                "                print(f\"Node {element}: {variable}: (first week)\")\n",
                "                #plt.plot(var_values[: 24 * 7])\n",
                "                #plt.show()"
            ]
        },
        {
            "cell_type": "code",
            "execution_count": null,
            "metadata": {},
            "outputs": [],
            "source": [
                "results_week.head()"
            ]
        },
        {
            "cell_type": "code",
            "execution_count": null,
            "metadata": {},
            "outputs": [],
            "source": [
                "results = results_week[96:120].reset_index(drop=True)\n",
                "results.head()"
            ]
        },
        {
            "cell_type": "code",
            "execution_count": null,
            "metadata": {},
            "outputs": [],
            "source": [
                "config = {'benchmark.txt': 10,\n",
                "'model.txt': 10,\n",
                "'model_100.txt':100,\n",
                "'model_1000.txt': 1000, \n",
                "}\n",
                "print(config)"
            ]
        },
        {
            "cell_type": "code",
            "execution_count": null,
            "metadata": {},
            "outputs": [],
            "source": [
                "obj_result, nodes_result = analysis.get_results_new(config)\n",
                "obj_result.to_csv(\"obj_result.csv\")\n",
                "nodes_result.to_csv(\"nodes_result.csv\")\n"
            ]
        },
        {
            "cell_type": "code",
            "execution_count": null,
            "metadata": {},
            "outputs": [],
            "source": [
                "obj_result.head()"
            ]
        },
        {
            "cell_type": "code",
            "execution_count": null,
            "metadata": {},
            "outputs": [],
            "source": [
                "nodes_result.head()"
            ]
        },
        {
            "cell_type": "code",
            "execution_count": null,
            "metadata": {},
            "outputs": [],
            "source": [
                "solution_dict['solution'][\"elements\"].keys()"
            ]
        },
        {
            "cell_type": "code",
            "execution_count": null,
            "metadata": {},
            "outputs": [],
            "source": [
                "solution_dict['solution'][\"elements\"][\"DISTRIBUTION_EL\"][\"objectives\"][\"unnamed\"]"
            ]
        },
        {
            "cell_type": "code",
            "execution_count": null,
            "metadata": {},
            "outputs": [],
            "source": [
                "objective_res, node_res = get_results(solution_dict, \"\", num_households=10)\n",
                "objective_res.head()"
            ]
        },
        {
            "cell_type": "code",
            "execution_count": null,
            "metadata": {},
            "outputs": [],
            "source": [
                "import matplotlib.pyplot as plt\n",
                "import numpy as np\n",
                "\n",
                "x = np.arange(24)\n",
                "plt.rcParams[\"figure.figsize\"] = 9, 6\n",
                "\n",
                "plt.plot(x, results.consumption_el)\n",
                "plt.plot(x, results.electricity_import)\n",
                "plt.plot(x, results.wind_generated)\n",
                "plt.plot(x, results.solar_generated)\n",
                "plt.plot(x, results.electricity_generated)\n",
                "\n",
                "plt.xlabel(\"Hour\")\n",
                "plt.ylabel(\"kW\")\n",
                "plt.legend(['demand', 'electricity_import', 'wind_generated', 'solar_generated', \"chp_electricity\"], loc='upper left')\n",
                "plt.show()\n"
            ]
        },
        {
            "cell_type": "code",
            "execution_count": null,
            "metadata": {},
            "outputs": [],
            "source": [
                "plt.rcParams[\"figure.figsize\"] = 9, 6\n",
                "\n",
                "plt.plot(x, results.consumption_el)\n",
                "plt.plot(x, results.electricity_import)\n",
                "plt.plot(x, results.solar_generated+results.wind_generated)\n",
                "plt.xlabel(\"Hour\")\n",
                "plt.ylabel(\"kW\")\n",
                "plt.legend(['demand', 'electricity_import', 'solar + wind'], loc='upper left')\n",
                "plt.show()\n"
            ]
        },
        {
            "cell_type": "code",
            "execution_count": null,
            "metadata": {},
            "outputs": [],
            "source": [
                "results[\"operating_cost_electricity\"]"
            ]
        },
        {
            "cell_type": "code",
            "execution_count": null,
            "metadata": {},
            "outputs": [],
            "source": [
                "ax = results[[ 'wind_generated', 'solar_generated', 'electricity_import', 'electricity_generated']].plot(kind='bar', stacked=True, figsize=(9, 6), rot=0, xlabel='Hour', ylabel='kW')\n",
                "ax2 = results.operating_cost_electricity.plot(secondary_y=True,color=\"grey\", ax=ax, label=\"operating cost electricity\")\n",
                "_ = ax.plot(results[\"consumption_el\"],  color='black',  label='Demand')\n",
                "_ = ax.legend()\n",
                "_ = ax2.legend(loc=\"upper right\")"
            ]
        },
        {
            "cell_type": "code",
            "execution_count": null,
            "metadata": {},
            "outputs": [],
            "source": [
                "fig, axes = plt.subplots(nrows=1, ncols=2, figsize=(13, 6))\n",
                "_ = axes[0].plot(x, results[\"soc\"], label=\"soc\")\n",
                "_ = axes[1].plot(x, results[\"discharge\"], color=\"grey\", label=\"discharge\")\n",
                "_ = fig.legend()"
            ]
        },
        {
            "cell_type": "code",
            "execution_count": null,
            "metadata": {},
            "outputs": [],
            "source": []
        }
    ],
    "metadata": {
        "kernelspec": {
            "display_name": "Python 3",
            "language": "python",
            "name": "python3"
        },
        "language_info": {
            "codemirror_mode": {
                "name": "ipython",
                "version": 3
            },
            "file_extension": ".py",
            "mimetype": "text/x-python",
            "name": "python",
            "nbconvert_exporter": "python",
            "pygments_lexer": "ipython3",
            "version": "3.11.5"
        }
    },
    "nbformat": 4,
    "nbformat_minor": 2
}
