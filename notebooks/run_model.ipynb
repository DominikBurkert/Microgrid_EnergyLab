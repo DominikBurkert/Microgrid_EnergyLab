{
 "cells": [
  {
   "cell_type": "code",
   "execution_count": null,
   "metadata": {},
   "outputs": [],
   "source": [
    "import sys\n",
    "sys.path.append(\"../src/\")\n",
    "import analysis\n"
   ]
  },
  {
   "cell_type": "code",
   "execution_count": null,
   "metadata": {},
   "outputs": [],
   "source": [
    "from gboml import GbomlGraph\n",
    "\n",
    "model_txt = \"benchmark.txt\"\n",
    "solution, solution_dict  = analysis.run_model(model_txt)\n",
    "print(solution)"
   ]
  },
  {
   "cell_type": "code",
   "execution_count": null,
   "metadata": {},
   "outputs": [],
   "source": [
    "solution_dict[\"solution\"][\"elements\"][\"TEST_NODE\"]"
   ]
  },
  {
   "cell_type": "code",
   "execution_count": null,
   "metadata": {},
   "outputs": [],
   "source": [
    "#analysis.show_results(solution_dict)"
   ]
  },
  {
   "cell_type": "code",
   "execution_count": null,
   "metadata": {},
   "outputs": [],
   "source": [
    "import pandas as pd\n",
    "results_week = pd.DataFrame()\n",
    "elements = solution_dict[\"solution\"][\"elements\"]\n",
    "for element in elements.keys():\n",
    "    if element in [\"WIND_PLANT\", \"SOLAR_PV\", \"DEMAND_EL\", \"DISTRIBUTION_EL\", \"BATTERY\", \"CHP_PLANT\"]:\n",
    "        for variable in elements[element][\"variables\"].keys():\n",
    "            var_values = elements[element][\"variables\"][variable][\"values\"]\n",
    "            if len(var_values) == 1:\n",
    "                result = f\"Node {element}: {variable}: {var_values[0]}\"\n",
    "                print(result)\n",
    "            else:\n",
    "                col = variable\n",
    "                results_week[col] = var_values[: 24*7]\n",
    "                print(f\"Node {element}: {variable}: (first week)\")\n",
    "                #plt.plot(var_values[: 24 * 7])\n",
    "                #plt.show()"
   ]
  },
  {
   "cell_type": "code",
   "execution_count": null,
   "metadata": {},
   "outputs": [],
   "source": [
    "results_week.head()"
   ]
  },
  {
   "cell_type": "code",
   "execution_count": null,
   "metadata": {},
   "outputs": [],
   "source": [
    "results = results_week[96:120].reset_index(drop=True)\n",
    "results.head()"
   ]
  },
  {
   "cell_type": "code",
   "execution_count": null,
   "metadata": {},
   "outputs": [],
   "source": [
    "config = {'benchmark.txt': 10,\n",
    "'model.txt': 10,\n",
    "'model_100.txt':100,\n",
    "'model_1000.txt': 1000, \n",
    "}\n",
    "print(config)"
   ]
  },
  {
   "cell_type": "code",
   "execution_count": null,
   "metadata": {},
   "outputs": [],
   "source": [
    "obj_result, nodes_result = analysis.get_results_new(config)\n",
    "obj_result.to_csv(\"obj_result.csv\")\n",
    "nodes_result.to_csv(\"nodes_result.csv\")\n"
   ]
  },
  {
   "cell_type": "code",
   "execution_count": null,
   "metadata": {},
   "outputs": [],
   "source": [
    "obj_result.head()"
   ]
  },
  {
   "cell_type": "code",
   "execution_count": null,
   "metadata": {},
   "outputs": [],
   "source": [
    "nodes_result.head()"
   ]
  },
  {
   "cell_type": "code",
   "execution_count": null,
   "metadata": {},
   "outputs": [],
   "source": [
    "solution_dict['solution'][\"elements\"].keys()"
   ]
  },
  {
   "cell_type": "code",
   "execution_count": null,
   "metadata": {},
   "outputs": [],
   "source": [
    "solution_dict['solution'][\"elements\"][\"DISTRIBUTION_EL\"][\"objectives\"][\"unnamed\"]"
   ]
  },
  {
   "cell_type": "code",
   "execution_count": null,
   "metadata": {},
   "outputs": [],
   "source": [
    "objective_res, node_res = get_results(solution_dict, \"\", num_households=10)\n",
    "objective_res.head()"
   ]
  },
  {
   "cell_type": "code",
   "execution_count": null,
   "metadata": {},
   "outputs": [],
   "source": [
    "import matplotlib.pyplot as plt\n",
    "import numpy as np\n",
    "\n",
    "x = np.arange(24)\n",
    "plt.rcParams[\"figure.figsize\"] = 9, 6\n",
    "\n",
    "plt.plot(x, results.consumption_el)\n",
    "plt.plot(x, results.electricity_import)\n",
    "plt.plot(x, results.wind_generated)\n",
    "plt.plot(x, results.solar_generated)\n",
    "plt.plot(x, results.electricity_generated)\n",
    "\n",
    "plt.xlabel(\"Hour\")\n",
    "plt.ylabel(\"kW\")\n",
    "plt.legend(['demand', 'electricity_import', 'wind_generated', 'solar_generated', \"chp_electricity\"], loc='upper left')\n",
    "plt.show()\n"
   ]
  },
  {
   "cell_type": "code",
   "execution_count": null,
   "metadata": {},
   "outputs": [],
   "source": [
    "plt.rcParams[\"figure.figsize\"] = 9, 6\n",
    "\n",
    "plt.plot(x, results.consumption_el)\n",
    "plt.plot(x, results.electricity_import)\n",
    "plt.plot(x, results.solar_generated+results.wind_generated)\n",
    "plt.xlabel(\"Hour\")\n",
    "plt.ylabel(\"kW\")\n",
    "plt.legend(['demand', 'electricity_import', 'solar + wind'], loc='upper left')\n",
    "plt.show()\n"
   ]
  },
  {
   "cell_type": "code",
   "execution_count": null,
   "metadata": {},
   "outputs": [],
   "source": [
    "results[\"operating_cost_electricity\"]"
   ]
  },
  {
   "cell_type": "code",
   "execution_count": null,
   "metadata": {},
   "outputs": [],
   "source": [
    "ax = results[[ 'wind_generated', 'solar_generated', 'electricity_import', 'electricity_generated']].plot(kind='bar', stacked=True, figsize=(9, 6), rot=0, xlabel='Hour', ylabel='kW')\n",
    "ax2 = results.operating_cost_electricity.plot(secondary_y=True,color=\"grey\", ax=ax, label=\"operating cost electricity\")\n",
    "_ = ax.plot(results[\"consumption_el\"],  color='black',  label='Demand')\n",
    "_ = ax.legend()\n",
    "_ = ax2.legend(loc=\"upper right\")"
   ]
  },
  {
   "cell_type": "code",
   "execution_count": null,
   "metadata": {},
   "outputs": [],
   "source": [
    "fig, axes = plt.subplots(nrows=1, ncols=2, figsize=(13, 6))\n",
    "_ = axes[0].plot(x, results[\"soc\"], label=\"soc\")\n",
    "_ = axes[1].plot(x, results[\"discharge\"], color=\"grey\", label=\"discharge\")\n",
    "_ = fig.legend()"
   ]
  },
  {
   "cell_type": "code",
   "execution_count": null,
   "metadata": {},
   "outputs": [],
   "source": []
  }
 ],
 "metadata": {
  "kernelspec": {
   "display_name": "Python 3",
   "language": "python",
   "name": "python3"
  },
  "language_info": {
   "codemirror_mode": {
    "name": "ipython",
    "version": 3
   },
   "file_extension": ".py",
   "mimetype": "text/x-python",
   "name": "python",
   "nbconvert_exporter": "python",
   "pygments_lexer": "ipython3",
   "version": "3.10.9"
  }
 },
 "nbformat": 4,
 "nbformat_minor": 2
}
